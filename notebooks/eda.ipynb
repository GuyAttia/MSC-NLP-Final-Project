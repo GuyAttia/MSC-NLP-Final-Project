{
 "cells": [
  {
   "cell_type": "markdown",
   "metadata": {},
   "source": [
    "# Imports"
   ]
  },
  {
   "cell_type": "code",
   "execution_count": 1,
   "metadata": {},
   "outputs": [],
   "source": [
    "import pandas as pd\n",
    "import seaborn as sns\n",
    "import matplotlib.pyplot as plt\n",
    "import json\n",
    "import numpy as np\n",
    "from collections import defaultdict"
   ]
  },
  {
   "cell_type": "code",
   "execution_count": 8,
   "metadata": {},
   "outputs": [
    {
     "name": "stdout",
     "output_type": "stream",
     "text": [
      "The autoreload extension is already loaded. To reload it, use:\n",
      "  %reload_ext autoreload\n"
     ]
    }
   ],
   "source": [
    "%load_ext autoreload\n",
    "%autoreload 2\n",
    "\n",
    "from load_data import *"
   ]
  },
  {
   "cell_type": "markdown",
   "metadata": {},
   "source": [
    "# Load Data"
   ]
  },
  {
   "cell_type": "code",
   "execution_count": null,
   "metadata": {},
   "outputs": [],
   "source": []
  },
  {
   "cell_type": "markdown",
   "metadata": {},
   "source": [
    "# Analysis"
   ]
  },
  {
   "cell_type": "code",
   "execution_count": null,
   "metadata": {},
   "outputs": [],
   "source": [
    "def analyze_BRANCH_DATASET(fpath):\n",
    "    with open(fpath) as dataf:\n",
    "        data_json = json.load(dataf)\n",
    "        total_examples = 0\n",
    "        total_source = 0\n",
    "        total_ids = []\n",
    "        for e in data_json[\"Examples\"]:\n",
    "            for k in range(len(e[\"stance_labels\"])):\n",
    "                total_examples += 1\n",
    "                if e[\"features\"][k][\"issource\"] == 1:\n",
    "                    total_source += 1\n",
    "                if e[\"features\"][k][\"string_id\"] not in total_ids:\n",
    "                    total_ids.append(e[\"features\"][k][\"string_id\"])\n",
    "        print(f\"Total examples: {total_examples}\")\n",
    "        print(f\"Total unique examples: {len(total_ids)}\")\n",
    "        print(f\"Total source: {total_source}\")"
   ]
  },
  {
   "cell_type": "code",
   "execution_count": null,
   "metadata": {},
   "outputs": [],
   "source": [
    "def analyze_BERT_DATASET(fpath):\n",
    "    examples = 0\n",
    "    with open(fpath) as dataf:\n",
    "        data_json = json.load(dataf)\n",
    "        classes = [0] * 4\n",
    "        source_classes = [0] * 4\n",
    "        for e in data_json[\"Examples\"]:\n",
    "            examples += 1\n",
    "            classes[e[\"stance_label\"]] += 1\n",
    "            if e[\"issource\"] == 1:\n",
    "                source_classes[e[\"stance_label\"]] += 1\n",
    "    print(f\"Total unique examples: {examples}\")\n",
    "    print_clsinfo(classes)\n",
    "    print_clsinfo(source_classes)"
   ]
  },
  {
   "cell_type": "code",
   "execution_count": null,
   "metadata": {},
   "outputs": [],
   "source": [
    "def analyze_gold_labels(fpath):\n",
    "    examples = 0\n",
    "    with open(fpath) as dataf:\n",
    "        data_json = json.load(dataf)['subtaskaenglish']\n",
    "        classes = defaultdict(lambda: 0)\n",
    "        for id, cls in data_json.items():\n",
    "            classes[cls] += 1\n",
    "    return dict(classes)"
   ]
  },
  {
   "cell_type": "code",
   "execution_count": null,
   "metadata": {},
   "outputs": [],
   "source": [
    "def print_clsinfo(classes):\n",
    "    print(f\"Class balance: {classes}\")\n",
    "    classes = np.array(classes)\n",
    "    print(f\"Class balance [ normalized ]: {(classes / classes.sum() * 100)}\")"
   ]
  },
  {
   "cell_type": "code",
   "execution_count": null,
   "metadata": {},
   "outputs": [],
   "source": [
    "def analyze_answers(fpath):\n",
    "    examples = 0\n",
    "    with open(fpath) as dataf:\n",
    "        data_json = json.load(dataf)\n",
    "        classes = [0] * 4\n",
    "        for e in data_json[\"subtaskaenglish\"]:\n",
    "            examples += 1\n",
    "            cls = map_s_to_label_stance[data_json[\"subtaskaenglish\"][e]]\n",
    "            classes[cls] += 1\n",
    "\n",
    "    print(f\"Total unique examples: {examples}\")\n",
    "    print_clsinfo(classes)"
   ]
  },
  {
   "cell_type": "code",
   "execution_count": null,
   "metadata": {},
   "outputs": [],
   "source": [
    "\n",
    "from task_A.frameworks.bert_framework import map_s_to_label_stance\n",
    "\n",
    "# classes\n",
    "# Support / Deny / Query / Comment\n",
    "\n",
    "# class to numerical label mapping\n",
    "#     0: \"support\",\n",
    "#     1: \"comment\",\n",
    "#     2: \"deny\",\n",
    "#     3: \"query\"\n",
    "\n",
    "\n",
    "print(\"BRANCH DATASET\")\n",
    "analyze_BRANCH_DATASET(\"data_preprocessing/saved_data_RumEval2019_BRANCH/train/train.json\")\n",
    "print(\"BERT DATASET\")\n",
    "print(\"TRAIN\")\n",
    "analyze_BERT_DATASET(\"data_preprocessing/saved_data_RumEval2019_SEQ/train/train.json\")\n",
    "\n",
    "\n",
    "\n",
    "print(\"DEV\")\n",
    "analyze_BERT_DATASET(\"data_preprocessing/saved_data_RumEval2019_SEQ/dev/dev.json\")\n",
    "\n",
    "print(\"TEST\")\n",
    "k = analyze_gold_labels(\n",
    "    \"/home/ifajcik/Work/NLP/semeval_2019/7_Rumour_Eval/rumoureval-2019-test-data/final-eval-key.json\")\n",
    "print(k)\n",
    "s = sum(list(k.values()))\n",
    "print(f\"total: {s}\")\n",
    "normalized = [i / s * 100 for i in k.values()]\n",
    "print(f\"normalized: {normalized}\")\n",
    "print(\"MODEL_PREDS\")\n",
    "analyze_answers(\"answer_BERT_textnsource.json\")"
   ]
  }
 ],
 "metadata": {
  "kernelspec": {
   "display_name": "Python 3 (ipykernel)",
   "language": "python",
   "name": "python3"
  },
  "language_info": {
   "codemirror_mode": {
    "name": "ipython",
    "version": 3
   },
   "file_extension": ".py",
   "mimetype": "text/x-python",
   "name": "python",
   "nbconvert_exporter": "python",
   "pygments_lexer": "ipython3",
   "version": "3.8.13"
  }
 },
 "nbformat": 4,
 "nbformat_minor": 2
}
